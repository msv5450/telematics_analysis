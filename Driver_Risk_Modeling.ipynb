{
 "cells": [
  {
   "cell_type": "code",
   "execution_count": 1,
   "metadata": {},
   "outputs": [],
   "source": [
    "#import libraries\n",
    "import pandas as pd\n",
    "import numpy as np\n",
    "from math import radians, cos, sin, asin, sqrt \n",
    "\n",
    "#importing liabraries for graphical representation\n",
    "import matplotlib.pyplot as plt\n",
    "import seaborn as sns\n",
    "from pandas.plotting import scatter_matrix\n",
    "import matplotlib.patches as mpatches\n",
    "from matplotlib import rcParams\n",
    "from matplotlib.cm import rainbow\n",
    "\n",
    "#Packages for feature engineering\n",
    "from sklearn.model_selection import train_test_split, StratifiedKFold,cross_val_score\n",
    "from sklearn.linear_model import LogisticRegression, SGDClassifier\n",
    "from sklearn.tree import DecisionTreeClassifier\n",
    "from sklearn.ensemble import RandomForestClassifier, AdaBoostClassifier\n",
    "from statsmodels.tools.eval_measures import rmse\n",
    "from sklearn.metrics import classification_report, accuracy_score, confusion_matrix"
   ]
  },
  {
   "cell_type": "markdown",
   "metadata": {},
   "source": [
    "<b>Import Dataset</b>"
   ]
  },
  {
   "cell_type": "code",
   "execution_count": 2,
   "metadata": {},
   "outputs": [],
   "source": [
    "travel = pd.read_csv('simulated_summary_total.csv')\n",
    "# Dropping Feature Days because it remains fixed\n",
    "travel.drop('Days',axis = 1, inplace=True)"
   ]
  },
  {
   "cell_type": "code",
   "execution_count": 3,
   "metadata": {},
   "outputs": [
    {
     "data": {
      "text/html": [
       "<div>\n",
       "<style scoped>\n",
       "    .dataframe tbody tr th:only-of-type {\n",
       "        vertical-align: middle;\n",
       "    }\n",
       "\n",
       "    .dataframe tbody tr th {\n",
       "        vertical-align: top;\n",
       "    }\n",
       "\n",
       "    .dataframe thead th {\n",
       "        text-align: right;\n",
       "    }\n",
       "</style>\n",
       "<table border=\"1\" class=\"dataframe\">\n",
       "  <thead>\n",
       "    <tr style=\"text-align: right;\">\n",
       "      <th></th>\n",
       "      <th>Vehicle</th>\n",
       "      <th>Distance</th>\n",
       "      <th>HardBrakes</th>\n",
       "      <th>HardAccelerations</th>\n",
       "      <th>NightTime_Pct</th>\n",
       "      <th>VehicleType</th>\n",
       "      <th>Loss</th>\n",
       "    </tr>\n",
       "  </thead>\n",
       "  <tbody>\n",
       "    <tr>\n",
       "      <th>0</th>\n",
       "      <td>1</td>\n",
       "      <td>13114</td>\n",
       "      <td>152</td>\n",
       "      <td>56</td>\n",
       "      <td>0.005</td>\n",
       "      <td>SUV</td>\n",
       "      <td>0</td>\n",
       "    </tr>\n",
       "    <tr>\n",
       "      <th>1</th>\n",
       "      <td>2</td>\n",
       "      <td>18707</td>\n",
       "      <td>147</td>\n",
       "      <td>1</td>\n",
       "      <td>0.010</td>\n",
       "      <td>SUV</td>\n",
       "      <td>0</td>\n",
       "    </tr>\n",
       "    <tr>\n",
       "      <th>2</th>\n",
       "      <td>3</td>\n",
       "      <td>16659</td>\n",
       "      <td>151</td>\n",
       "      <td>127</td>\n",
       "      <td>0.019</td>\n",
       "      <td>Truck</td>\n",
       "      <td>0</td>\n",
       "    </tr>\n",
       "    <tr>\n",
       "      <th>3</th>\n",
       "      <td>4</td>\n",
       "      <td>13330</td>\n",
       "      <td>126</td>\n",
       "      <td>147</td>\n",
       "      <td>0.000</td>\n",
       "      <td>SUV</td>\n",
       "      <td>1</td>\n",
       "    </tr>\n",
       "    <tr>\n",
       "      <th>4</th>\n",
       "      <td>5</td>\n",
       "      <td>22533</td>\n",
       "      <td>10</td>\n",
       "      <td>11</td>\n",
       "      <td>0.001</td>\n",
       "      <td>Truck</td>\n",
       "      <td>0</td>\n",
       "    </tr>\n",
       "  </tbody>\n",
       "</table>\n",
       "</div>"
      ],
      "text/plain": [
       "   Vehicle  Distance  HardBrakes  HardAccelerations  NightTime_Pct  \\\n",
       "0        1     13114         152                 56          0.005   \n",
       "1        2     18707         147                  1          0.010   \n",
       "2        3     16659         151                127          0.019   \n",
       "3        4     13330         126                147          0.000   \n",
       "4        5     22533          10                 11          0.001   \n",
       "\n",
       "  VehicleType  Loss  \n",
       "0         SUV     0  \n",
       "1         SUV     0  \n",
       "2       Truck     0  \n",
       "3         SUV     1  \n",
       "4       Truck     0  "
      ]
     },
     "execution_count": 3,
     "metadata": {},
     "output_type": "execute_result"
    }
   ],
   "source": [
    "travel.head(5)"
   ]
  },
  {
   "cell_type": "markdown",
   "metadata": {},
   "source": [
    "Here, we plot a bar chart to visullay gauge the ratio of loss=0 and loss=1. it is mostly 0"
   ]
  },
  {
   "cell_type": "code",
   "execution_count": 4,
   "metadata": {},
   "outputs": [
    {
     "data": {
      "text/plain": [
       "Text(0.5, 1.0, 'Count of each Target Class')"
      ]
     },
     "execution_count": 4,
     "metadata": {},
     "output_type": "execute_result"
    },
    {
     "data": {
      "image/png": "[encoded data removed]",
      "text/plain": [
       "<Figure size 576x432 with 1 Axes>"
      ]
     },
     "metadata": {
      "needs_background": "light"
     },
     "output_type": "display_data"
    }
   ],
   "source": [
    "rcParams['figure.figsize'] = 8,6\n",
    "plt.bar(travel['Loss'].unique(), travel['Loss'].value_counts(), color = ['red', 'green'])\n",
    "plt.xticks([0, 1])\n",
    "plt.xlabel('Target Classes')\n",
    "plt.ylabel('Count')\n",
    "plt.title('Count of each Target Class')"
   ]
  },
  {
   "cell_type": "markdown",
   "metadata": {},
   "source": [
    "I then plotted histograms of different variables to look for outlier data points. According to the below charts, Hard brakes and Hard acceleration data clearly have a few very large data values that will be removed. The second series of histograms which are plotted after removing the outliers show a much smoother distribution of data"
   ]
  },
  {
   "cell_type": "code",
   "execution_count": 5,
   "metadata": {},
   "outputs": [
    {
     "data": {
      "image/png": "[encoded data removed]",
      "text/plain": [
       "<Figure size 1440x360 with 6 Axes>"
      ]
     },
     "metadata": {
      "needs_background": "light"
     },
     "output_type": "display_data"
    }
   ],
   "source": [
    "travel.hist(grid=False,sharex=False,sharey=False,figsize=(20,5),layout=(1,6))\n",
    "plt.show()\n",
    "# the plot shows that there are a few cars with very hard accelerations and brakes"
   ]
  },
  {
   "cell_type": "code",
   "execution_count": 6,
   "metadata": {},
   "outputs": [
    {
     "data": {
      "image/png": "[encoded data removed]",
      "text/plain": [
       "<Figure size 1440x360 with 6 Axes>"
      ]
     },
     "metadata": {
      "needs_background": "light"
     },
     "output_type": "display_data"
    }
   ],
   "source": [
    "# remove very large data for Hard brakes and Hard acceleration. Set the threshold to 1500 harsh events\n",
    "travel = travel[travel['HardAccelerations'] < 1500]\n",
    "travel = travel[travel['HardBrakes'] < 1500]\n",
    "travel.hist(grid=False,sharex=False,sharey=False,figsize=(20,5),layout=(1,6))\n",
    "plt.show()"
   ]
  },
  {
   "cell_type": "markdown",
   "metadata": {},
   "source": [
    "<b>Car types with maximum accident claims</b> I grouped the data based on the car type and plotted a bar chart to visually see the difference in terms of loss between types of cars. The var chart does not show a significance difference between vehicle types in terms of loss."
   ]
  },
  {
   "cell_type": "code",
   "execution_count": 7,
   "metadata": {},
   "outputs": [
    {
     "data": {
      "text/html": [
       "<div>\n",
       "<style scoped>\n",
       "    .dataframe tbody tr th:only-of-type {\n",
       "        vertical-align: middle;\n",
       "    }\n",
       "\n",
       "    .dataframe tbody tr th {\n",
       "        vertical-align: top;\n",
       "    }\n",
       "\n",
       "    .dataframe thead th {\n",
       "        text-align: right;\n",
       "    }\n",
       "</style>\n",
       "<table border=\"1\" class=\"dataframe\">\n",
       "  <thead>\n",
       "    <tr style=\"text-align: right;\">\n",
       "      <th></th>\n",
       "      <th>VehicleType</th>\n",
       "      <th>Loss</th>\n",
       "    </tr>\n",
       "  </thead>\n",
       "  <tbody>\n",
       "    <tr>\n",
       "      <th>0</th>\n",
       "      <td>Car</td>\n",
       "      <td>0.124047</td>\n",
       "    </tr>\n",
       "    <tr>\n",
       "      <th>1</th>\n",
       "      <td>Minivan</td>\n",
       "      <td>0.102108</td>\n",
       "    </tr>\n",
       "    <tr>\n",
       "      <th>2</th>\n",
       "      <td>SUV</td>\n",
       "      <td>0.146905</td>\n",
       "    </tr>\n",
       "    <tr>\n",
       "      <th>3</th>\n",
       "      <td>Truck</td>\n",
       "      <td>0.138383</td>\n",
       "    </tr>\n",
       "  </tbody>\n",
       "</table>\n",
       "</div>"
      ],
      "text/plain": [
       "  VehicleType      Loss\n",
       "0         Car  0.124047\n",
       "1     Minivan  0.102108\n",
       "2         SUV  0.146905\n",
       "3       Truck  0.138383"
      ]
     },
     "execution_count": 7,
     "metadata": {},
     "output_type": "execute_result"
    }
   ],
   "source": [
    "Claim_mean = travel.groupby('VehicleType', as_index=False)['Loss'].mean()\n",
    "Claim_mean"
   ]
  },
  {
   "cell_type": "code",
   "execution_count": 8,
   "metadata": {},
   "outputs": [
    {
     "data": {
      "image/png": "[encoded data removed]",
      "text/plain": [
       "<Figure size 576x432 with 1 Axes>"
      ]
     },
     "metadata": {
      "needs_background": "light"
     },
     "output_type": "display_data"
    }
   ],
   "source": [
    "ax = Claim_mean.plot.bar(x='VehicleType', y='Loss', rot=0)"
   ]
  },
  {
   "cell_type": "markdown",
   "metadata": {},
   "source": [
    "<b>Correlation of hard acceleartion and brakes with Loss</b>"
   ]
  },
  {
   "cell_type": "markdown",
   "metadata": {},
   "source": [
    "We compute the correlation between hard accelerations/brakes and loss on each car type separately.\n",
    "Pearson correlation values turn out to be small. I tested this on all four vehicle types (SUV, Minivan, Truck, Car). So, hard events are not imporatnt in predicting the risk."
   ]
  },
  {
   "cell_type": "code",
   "execution_count": 9,
   "metadata": {},
   "outputs": [
    {
     "data": {
      "text/html": [
       "<div>\n",
       "<style scoped>\n",
       "    .dataframe tbody tr th:only-of-type {\n",
       "        vertical-align: middle;\n",
       "    }\n",
       "\n",
       "    .dataframe tbody tr th {\n",
       "        vertical-align: top;\n",
       "    }\n",
       "\n",
       "    .dataframe thead th {\n",
       "        text-align: right;\n",
       "    }\n",
       "</style>\n",
       "<table border=\"1\" class=\"dataframe\">\n",
       "  <thead>\n",
       "    <tr style=\"text-align: right;\">\n",
       "      <th></th>\n",
       "      <th>Distance</th>\n",
       "      <th>HardBrakes</th>\n",
       "      <th>HardAccelerations</th>\n",
       "      <th>NightTime_Pct</th>\n",
       "      <th>VehicleType</th>\n",
       "      <th>Loss</th>\n",
       "    </tr>\n",
       "  </thead>\n",
       "  <tbody>\n",
       "    <tr>\n",
       "      <th>0</th>\n",
       "      <td>13114</td>\n",
       "      <td>152</td>\n",
       "      <td>56</td>\n",
       "      <td>0.005</td>\n",
       "      <td>SUV</td>\n",
       "      <td>0</td>\n",
       "    </tr>\n",
       "    <tr>\n",
       "      <th>1</th>\n",
       "      <td>18707</td>\n",
       "      <td>147</td>\n",
       "      <td>1</td>\n",
       "      <td>0.010</td>\n",
       "      <td>SUV</td>\n",
       "      <td>0</td>\n",
       "    </tr>\n",
       "    <tr>\n",
       "      <th>2</th>\n",
       "      <td>13330</td>\n",
       "      <td>126</td>\n",
       "      <td>147</td>\n",
       "      <td>0.000</td>\n",
       "      <td>SUV</td>\n",
       "      <td>1</td>\n",
       "    </tr>\n",
       "    <tr>\n",
       "      <th>3</th>\n",
       "      <td>17689</td>\n",
       "      <td>75</td>\n",
       "      <td>210</td>\n",
       "      <td>0.000</td>\n",
       "      <td>SUV</td>\n",
       "      <td>0</td>\n",
       "    </tr>\n",
       "    <tr>\n",
       "      <th>4</th>\n",
       "      <td>16008</td>\n",
       "      <td>116</td>\n",
       "      <td>92</td>\n",
       "      <td>0.000</td>\n",
       "      <td>SUV</td>\n",
       "      <td>1</td>\n",
       "    </tr>\n",
       "  </tbody>\n",
       "</table>\n",
       "</div>"
      ],
      "text/plain": [
       "   Distance  HardBrakes  HardAccelerations  NightTime_Pct VehicleType  Loss\n",
       "0     13114         152                 56          0.005         SUV     0\n",
       "1     18707         147                  1          0.010         SUV     0\n",
       "2     13330         126                147          0.000         SUV     1\n",
       "3     17689          75                210          0.000         SUV     0\n",
       "4     16008         116                 92          0.000         SUV     1"
      ]
     },
     "execution_count": 9,
     "metadata": {},
     "output_type": "execute_result"
    }
   ],
   "source": [
    "carType = 'SUV'\n",
    "groupData = travel.groupby('VehicleType')\n",
    "carTypeData = groupData.get_group(carType).reset_index(drop=True)\n",
    "carTypeData = carTypeData.drop({'Vehicle'}, axis = 1)\n",
    "carTypeData.head(5)"
   ]
  },
  {
   "cell_type": "code",
   "execution_count": 10,
   "metadata": {},
   "outputs": [
    {
     "name": "stdout",
     "output_type": "stream",
     "text": [
      "Correlation of Hrad Acceleration and Loss:   0.07211317595930941\n",
      "Correlation of Hrad Brakes and Loss:         -0.010206874271437984\n",
      "Correlation of Hrad Brakes and Acceleration  0.08315216782421571\n"
     ]
    }
   ],
   "source": [
    "HardAccelerations = carTypeData['HardAccelerations']\n",
    "HardBrakes = carTypeData['HardBrakes']\n",
    "Loss = carTypeData['Loss']\n",
    "corrAcc = HardAccelerations.corr(Loss)\n",
    "corrBrake = HardBrakes.corr(Loss)\n",
    "corrAccBrake = HardBrakes.corr(HardAccelerations)\n",
    "print('Correlation of Hrad Acceleration and Loss:  ', corrAcc)\n",
    "print('Correlation of Hrad Brakes and Loss:        ', corrBrake)\n",
    "print('Correlation of Hrad Brakes and Acceleration ', corrAccBrake)"
   ]
  },
  {
   "cell_type": "markdown",
   "metadata": {},
   "source": [
    "The above numbers show that the correlation of hard brakes and acceleration with loss are both minimal. However, hard accelerations have a higher correlation with loss compared to hard brakes. because 0.072 > 0.01. We now consider the correlation between all the involved variables."
   ]
  },
  {
   "cell_type": "code",
   "execution_count": 11,
   "metadata": {},
   "outputs": [
    {
     "data": {
      "image/png": "[encoded data removed]",
      "text/plain": [
       "<Figure size 720x504 with 2 Axes>"
      ]
     },
     "metadata": {
      "needs_background": "light"
     },
     "output_type": "display_data"
    }
   ],
   "source": [
    "# this function does Multi colinearity detection -> correlation of all variables\n",
    "def plot_heatmap(df, fig_size=(10, 7)):\n",
    "    fig = plt.figure(figsize=fig_size)\n",
    "    sns.heatmap(df.corr(), annot=True)\n",
    "    plt.title('Heatmap for detecting multicollinearity', fontsize=16, color='navy')\n",
    "    plt.show()\n",
    "    \n",
    "plot_heatmap(carTypeData)"
   ]
  },
  {
   "cell_type": "markdown",
   "metadata": {},
   "source": [
    "<b>Inference</b>  From the above heat-map we can see that there is not a high correlation between any features and hence we can continue with all of the above features to train our model. One could argue that distance shows a higher correlartion with loss but it is still much smaller than corr = 1. "
   ]
  },
  {
   "cell_type": "markdown",
   "metadata": {},
   "source": [
    "<b> Train-Test Split </b> We will not group the data based on car type anymore. I considered all vehicle types together for building the model. Training and test data are split 70-30%. Random Forest and Logistic regression yield the same precsion at predicting risk."
   ]
  },
  {
   "cell_type": "code",
   "execution_count": 12,
   "metadata": {},
   "outputs": [],
   "source": [
    "X = travel.drop({'Loss','VehicleType', 'Vehicle'}, axis = 1)\n",
    "Y = travel['Loss']\n",
    "Y.head()\n",
    "X_train, X_test, Y_train, Y_test = train_test_split(X,Y, train_size = 0.7, random_state = 7)"
   ]
  },
  {
   "cell_type": "markdown",
   "metadata": {},
   "source": [
    "<b> Random Forest classifier </b>"
   ]
  },
  {
   "cell_type": "code",
   "execution_count": 13,
   "metadata": {},
   "outputs": [
    {
     "name": "stdout",
     "output_type": "stream",
     "text": [
      "0.8617886178861789\n",
      "              precision    recall  f1-score   support\n",
      "\n",
      "           0       0.86      1.00      0.93      7759\n",
      "           1       0.22      0.01      0.01      1220\n",
      "\n",
      "    accuracy                           0.86      8979\n",
      "   macro avg       0.54      0.50      0.47      8979\n",
      "weighted avg       0.78      0.86      0.80      8979\n",
      "\n"
     ]
    }
   ],
   "source": [
    "rf = RandomForestClassifier()\n",
    "rf.fit(X_train, Y_train)\n",
    "y_pred_rf = rf.predict(X_test)\n",
    "print(accuracy_score(Y_test, y_pred_rf))\n",
    "print(classification_report(Y_test, y_pred_rf))"
   ]
  },
  {
   "cell_type": "markdown",
   "metadata": {},
   "source": [
    "<b> Logistic Regression </b>"
   ]
  },
  {
   "cell_type": "code",
   "execution_count": 14,
   "metadata": {},
   "outputs": [
    {
     "name": "stdout",
     "output_type": "stream",
     "text": [
      "0.8641274083973717\n",
      "              precision    recall  f1-score   support\n",
      "\n",
      "           0       0.86      1.00      0.93      7759\n",
      "           1       0.00      0.00      0.00      1220\n",
      "\n",
      "    accuracy                           0.86      8979\n",
      "   macro avg       0.43      0.50      0.46      8979\n",
      "weighted avg       0.75      0.86      0.80      8979\n",
      "\n"
     ]
    },
    {
     "name": "stderr",
     "output_type": "stream",
     "text": [
      "C:\\Users\\mjsar\\anaconda3\\lib\\site-packages\\sklearn\\metrics\\_classification.py:1272: UndefinedMetricWarning: Precision and F-score are ill-defined and being set to 0.0 in labels with no predicted samples. Use `zero_division` parameter to control this behavior.\n",
      "  _warn_prf(average, modifier, msg_start, len(result))\n"
     ]
    }
   ],
   "source": [
    "logr = LogisticRegression()\n",
    "logr.fit(X_train,Y_train)\n",
    "y_pred = logr.predict(X_test)\n",
    "print(accuracy_score(Y_test, y_pred))\n",
    "print(classification_report(Y_test, y_pred))"
   ]
  }
 ],
 "metadata": {
  "kernelspec": {
   "display_name": "Python 3",
   "language": "python",
   "name": "python3"
  },
  "language_info": {
   "codemirror_mode": {
    "name": "ipython",
    "version": 3
   },
   "file_extension": ".py",
   "mimetype": "text/x-python",
   "name": "python",
   "nbconvert_exporter": "python",
   "pygments_lexer": "ipython3",
   "version": "3.7.6"
  }
 },
 "nbformat": 4,
 "nbformat_minor": 4
}
